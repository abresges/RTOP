{
 "cells": [
  {
   "cell_type": "markdown",
   "metadata": {},
   "source": [
    "Hier werden zunächst die Pakete installiert, die man zum Auswerten braucht, und den Paketen Kurznamen wie \"Pd\" zur Verwendung im Programm gegeben (oder fachsprachlich, es werden \"Objekte instantiiert\" auf die man in der Punktschreibweise zugreifen kann. Mit der \"Tab\" taste kann man Auto-vervollständigen und so sehen was das Paket alles kann.\n",
    "\n",
    "Das ganze wird mit Copy-and-Paste fähigen Codebeispielen erklärt hier:\n",
    "<a href=\"https://github.com/jakevdp/PythonDataScienceHandbook/blob/8a34a4f653bdbdc01415a94dc20d4e9b97438965/notebooks/Index.ipynb\">PythonDataScience Handbook</a>\n"
   ]
  },
  {
   "cell_type": "code",
   "execution_count": 27,
   "metadata": {
    "scrolled": true
   },
   "outputs": [],
   "source": [
    "%matplotlib inline\n",
    "import numpy as np\n",
    "import pandas as pd\n",
    "import matplotlib.pyplot as plt\n",
    "import seaborn as sns; sns.set()"
   ]
  },
  {
   "cell_type": "markdown",
   "metadata": {},
   "source": [
    "numpy erlaubt das Spielen mit grooooßen Datensätzen. Pandas (Python Analytical Data Science, oder so) enthält Tools für die Auswertung und kann fast alles was SPSS auch kann. matplotlib ist so etwas wie gnuplot oder Matlab, es erlaubt Daten in Graphen zu visualisieren (wird hier zum plot-Obkekt plt, plt. + TAB zeigt die Plotstyles). Seaborn ist eine weitere Sammlung die das Plotten noch schöner und 3-Dimensional macht.\n",
    "\n",
    "Pandas, hier kurz als pd. - Objekt instantiiert, kann Excel-Tabellen lesen. So wie unten. Bitte den Dateinamen ersetzen durch die eigene Datei. Mit sheet_name='' gibt man das Tabellenblatt an, das man lesen will. Anschliessend kann man sich durch print() anzeigen lassen was man gelesen hat."
   ]
  },
  {
   "cell_type": "code",
   "execution_count": 28,
   "metadata": {
    "scrolled": false
   },
   "outputs": [
    {
     "name": "stdout",
     "output_type": "stream",
     "text": [
      "    Format  Präsenz  Präsenz.1  Präsenz.2  Präsenz/Zoom  Päsenz  Präsenz.3  \\\n",
      "0        1        3          0          3             1       2          4   \n",
      "1        2        2          1          4             4       3          4   \n",
      "2        3        1          0          4             2       3          3   \n",
      "3        4        1          0          2             0       3          2   \n",
      "4        5        0          1          1             2       2          2   \n",
      "5        6        4          4          4             4       3          3   \n",
      "6        7        2          0          2             2       3          4   \n",
      "7        8        4          2          2             4       2          4   \n",
      "8        9        4          1          3             2       3          4   \n",
      "9       10        3          3          1             4       1          4   \n",
      "10      11        0          0          4             1       2          4   \n",
      "11      12        1          0          4             1       2          4   \n",
      "12      13        2          1          4             2       3          3   \n",
      "13      14        0          0          3             1       3          2   \n",
      "14      15        1          1          4             2       4          4   \n",
      "15      16        0          1          4             2       2          3   \n",
      "16      17        0          0          1             1       3          2   \n",
      "17      18        2          1          4             2       3          4   \n",
      "18      19        1          0          1             3       3          3   \n",
      "19      20        4          1          4             4       4          4   \n",
      "20      21        2          0          4             4       3          3   \n",
      "21      22        1          0          2             1       1          3   \n",
      "22      23        4          0          4             4       2          4   \n",
      "23      24        2          2          4             3       2          3   \n",
      "24      25        2          0          3             1       3          4   \n",
      "\n",
      "    Präsenz.4  Präsenz.5  Präsenz/Zoom.1  Präsenz.6  Präsenz.7  Päsenz/Zoom  \\\n",
      "0           3          1               2          0          0            4   \n",
      "1           4          0               4          3          0            2   \n",
      "2           4          0               2          1          0            3   \n",
      "3           3          0               3          1          0            2   \n",
      "4           3          1               4          1          1            2   \n",
      "5           4          4               4          4          4            4   \n",
      "6           4          2               3          2          2            2   \n",
      "7           4          3               4          3          2            4   \n",
      "8           4          2               2          2          2            4   \n",
      "9           2          2               4          1          4            4   \n",
      "10          3          1               3          2          0            1   \n",
      "11          4          0               2          3          0            3   \n",
      "12          3          0               4          2          0            1   \n",
      "13          3          0               2          0          0            0   \n",
      "14          3          1               4          2          0            2   \n",
      "15          2          0               2          2          0            2   \n",
      "16          4          1               2          1          1            1   \n",
      "17          4          1               2          2          0            0   \n",
      "18          4          0               3          1          0            1   \n",
      "19          4          1               3          2          0            3   \n",
      "20          4          1               4          2          0            2   \n",
      "21          3          0               2          1          0            2   \n",
      "22          4          1               4          1          0            4   \n",
      "23          3          0               3          2          0            2   \n",
      "24          4          1               3          3          0            2   \n",
      "\n",
      "    Präsenz.8  Präsenz.9  \n",
      "0           3          3  \n",
      "1           4          3  \n",
      "2           3          3  \n",
      "3           4          3  \n",
      "4           2          4  \n",
      "5           4          4  \n",
      "6           3          3  \n",
      "7           4          3  \n",
      "8           3          2  \n",
      "9           3          3  \n",
      "10          4          3  \n",
      "11          3          3  \n",
      "12          4          4  \n",
      "13          4          1  \n",
      "14          4          4  \n",
      "15          3          4  \n",
      "16          4          2  \n",
      "17          4          2  \n",
      "18          4          3  \n",
      "19          2          2  \n",
      "20          3          3  \n",
      "21          4          2  \n",
      "22          1          2  \n",
      "23          4          2  \n",
      "24          3          3  \n"
     ]
    }
   ],
   "source": [
    "dtpre=pd.read_excel('RTOP.xlsx', sheet_name='Rohdaten')\n",
    "print(dtpre)"
   ]
  },
  {
   "cell_type": "markdown",
   "metadata": {},
   "source": [
    "Der ganze Datensatz aus dem Excel-Blatt steht jetzt in der Variable \"dtpre\" zu verfügung und kann addiert, subtrahiert... gar heftig manipuliert werden. Hier wird dtpre erst mal transponiert, also Zeilen und Spalten vertauscht."
   ]
  },
  {
   "cell_type": "code",
   "execution_count": 29,
   "metadata": {},
   "outputs": [
    {
     "name": "stdout",
     "output_type": "stream",
     "text": [
      "                0   1   2   3   4   5   6   7   8   9  ...  15  16  17  18  \\\n",
      "Format           1   2   3   4   5   6   7   8   9  10 ...  16  17  18  19   \n",
      "Präsenz          3   2   1   1   0   4   2   4   4   3 ...   0   0   2   1   \n",
      "Präsenz.1        0   1   0   0   1   4   0   2   1   3 ...   1   0   1   0   \n",
      "Präsenz.2        3   4   4   2   1   4   2   2   3   1 ...   4   1   4   1   \n",
      "Präsenz/Zoom     1   4   2   0   2   4   2   4   2   4 ...   2   1   2   3   \n",
      "Päsenz           2   3   3   3   2   3   3   2   3   1 ...   2   3   3   3   \n",
      "Präsenz.3        4   4   3   2   2   3   4   4   4   4 ...   3   2   4   3   \n",
      "Präsenz.4        3   4   4   3   3   4   4   4   4   2 ...   2   4   4   4   \n",
      "Präsenz.5        1   0   0   0   1   4   2   3   2   2 ...   0   1   1   0   \n",
      "Präsenz/Zoom.1   2   4   2   3   4   4   3   4   2   4 ...   2   2   2   3   \n",
      "Präsenz.6        0   3   1   1   1   4   2   3   2   1 ...   2   1   2   1   \n",
      "Präsenz.7        0   0   0   0   1   4   2   2   2   4 ...   0   1   0   0   \n",
      "Päsenz/Zoom      4   2   3   2   2   4   2   4   4   4 ...   2   1   0   1   \n",
      "Präsenz.8        3   4   3   4   2   4   3   4   3   3 ...   3   4   4   4   \n",
      "Präsenz.9        3   3   3   3   4   4   3   3   2   3 ...   4   2   2   3   \n",
      "\n",
      "                19  20  21  22  23  24  \n",
      "Format          20  21  22  23  24  25  \n",
      "Präsenz          4   2   1   4   2   2  \n",
      "Präsenz.1        1   0   0   0   2   0  \n",
      "Präsenz.2        4   4   2   4   4   3  \n",
      "Präsenz/Zoom     4   4   1   4   3   1  \n",
      "Päsenz           4   3   1   2   2   3  \n",
      "Präsenz.3        4   3   3   4   3   4  \n",
      "Präsenz.4        4   4   3   4   3   4  \n",
      "Präsenz.5        1   1   0   1   0   1  \n",
      "Präsenz/Zoom.1   3   4   2   4   3   3  \n",
      "Präsenz.6        2   2   1   1   2   3  \n",
      "Präsenz.7        0   0   0   0   0   0  \n",
      "Päsenz/Zoom      3   2   2   4   2   2  \n",
      "Präsenz.8        2   3   4   1   4   3  \n",
      "Präsenz.9        2   3   2   2   2   3  \n",
      "\n",
      "[15 rows x 25 columns]\n"
     ]
    }
   ],
   "source": [
    "transponiert=dtpre.transpose()\n",
    "print(transponiert)"
   ]
  },
  {
   "cell_type": "markdown",
   "metadata": {},
   "source": [
    "Mit der Bracket-Schreibweise kann man sich einzelne Zeilen und Spalten herausgreifen und hier zum Beispiel in eine neue Variable \"pre\" speichern. Vor dem Komma stehen die Zeilen, nach dem Komma die Spalten. 0:4 heisst von Zeile 1 bis zeile 4."
   ]
  },
  {
   "cell_type": "code",
   "execution_count": 30,
   "metadata": {
    "scrolled": true
   },
   "outputs": [
    {
     "name": "stdout",
     "output_type": "stream",
     "text": [
      "                1  2  3  4\n",
      "Präsenz         2  1  1  0\n",
      "Präsenz.1       1  0  0  1\n",
      "Präsenz.2       4  4  2  1\n",
      "Präsenz/Zoom    4  2  0  2\n",
      "Päsenz          3  3  3  2\n",
      "Präsenz.3       4  3  2  2\n",
      "Präsenz.4       4  4  3  3\n",
      "Präsenz.5       0  0  0  1\n",
      "Präsenz/Zoom.1  4  2  3  4\n",
      "Präsenz.6       3  1  1  1\n",
      "Präsenz.7       0  0  0  1\n",
      "Päsenz/Zoom     2  3  2  2\n",
      "Präsenz.8       4  3  4  2\n",
      "Präsenz.9       3  3  3  4\n"
     ]
    }
   ],
   "source": [
    "pre=transponiert.iloc[1:25, 1:5]\n",
    "print(pre)"
   ]
  },
  {
   "cell_type": "markdown",
   "metadata": {},
   "source": [
    "Und jetzt kommt endlich das plt-Objekt, das Plotten kann. Hier habe ich statt des Hiostogramms einmal einen Boxplot beantragt, weil es m.E. mehr Sinn macht."
   ]
  },
  {
   "cell_type": "code",
   "execution_count": 31,
   "metadata": {},
   "outputs": [
    {
     "data": {
      "text/plain": [
       "{'whiskers': [<matplotlib.lines.Line2D at 0x1a1b9e4470>,\n",
       "  <matplotlib.lines.Line2D at 0x1a1b9e48d0>,\n",
       "  <matplotlib.lines.Line2D at 0x1a1ba76390>,\n",
       "  <matplotlib.lines.Line2D at 0x1a1ba767f0>,\n",
       "  <matplotlib.lines.Line2D at 0x1a1ba75f28>,\n",
       "  <matplotlib.lines.Line2D at 0x1a1ba4a710>,\n",
       "  <matplotlib.lines.Line2D at 0x1a1ba85e48>,\n",
       "  <matplotlib.lines.Line2D at 0x1a1ba59630>,\n",
       "  <matplotlib.lines.Line2D at 0x1a1ba9ad68>,\n",
       "  <matplotlib.lines.Line2D at 0x1a1ba96550>,\n",
       "  <matplotlib.lines.Line2D at 0x1a1ba92fd0>,\n",
       "  <matplotlib.lines.Line2D at 0x1a1baa8470>,\n",
       "  <matplotlib.lines.Line2D at 0x1a1baaeef0>,\n",
       "  <matplotlib.lines.Line2D at 0x1a1bab8390>,\n",
       "  <matplotlib.lines.Line2D at 0x1a1bac0e10>,\n",
       "  <matplotlib.lines.Line2D at 0x1a1bac0f28>,\n",
       "  <matplotlib.lines.Line2D at 0x1a1bad0d30>,\n",
       "  <matplotlib.lines.Line2D at 0x1a1bad0e48>,\n",
       "  <matplotlib.lines.Line2D at 0x1a1bae0c50>,\n",
       "  <matplotlib.lines.Line2D at 0x1a1bae0d68>,\n",
       "  <matplotlib.lines.Line2D at 0x1a1baf1b70>,\n",
       "  <matplotlib.lines.Line2D at 0x1a1baf1fd0>,\n",
       "  <matplotlib.lines.Line2D at 0x1a1bb02a90>,\n",
       "  <matplotlib.lines.Line2D at 0x1a1bb02ef0>,\n",
       "  <matplotlib.lines.Line2D at 0x1a1bb119b0>,\n",
       "  <matplotlib.lines.Line2D at 0x1a1bb11e10>,\n",
       "  <matplotlib.lines.Line2D at 0x1a1bb248d0>,\n",
       "  <matplotlib.lines.Line2D at 0x1a1bb24d30>,\n",
       "  <matplotlib.lines.Line2D at 0x1a1bb347f0>,\n",
       "  <matplotlib.lines.Line2D at 0x1a1bb34c50>],\n",
       " 'caps': [<matplotlib.lines.Line2D at 0x1a1b9e4d30>,\n",
       "  <matplotlib.lines.Line2D at 0x1a1b9e4e48>,\n",
       "  <matplotlib.lines.Line2D at 0x1a1ba76c50>,\n",
       "  <matplotlib.lines.Line2D at 0x1a1ba76d68>,\n",
       "  <matplotlib.lines.Line2D at 0x1a1ba4ab70>,\n",
       "  <matplotlib.lines.Line2D at 0x1a1ba4afd0>,\n",
       "  <matplotlib.lines.Line2D at 0x1a1ba59a90>,\n",
       "  <matplotlib.lines.Line2D at 0x1a1ba59ef0>,\n",
       "  <matplotlib.lines.Line2D at 0x1a1ba969b0>,\n",
       "  <matplotlib.lines.Line2D at 0x1a1ba96e10>,\n",
       "  <matplotlib.lines.Line2D at 0x1a1baa88d0>,\n",
       "  <matplotlib.lines.Line2D at 0x1a1baa8d30>,\n",
       "  <matplotlib.lines.Line2D at 0x1a1bab87f0>,\n",
       "  <matplotlib.lines.Line2D at 0x1a1bab8c50>,\n",
       "  <matplotlib.lines.Line2D at 0x1a1bac8710>,\n",
       "  <matplotlib.lines.Line2D at 0x1a1bac8b70>,\n",
       "  <matplotlib.lines.Line2D at 0x1a1bada630>,\n",
       "  <matplotlib.lines.Line2D at 0x1a1badaa90>,\n",
       "  <matplotlib.lines.Line2D at 0x1a1bae9550>,\n",
       "  <matplotlib.lines.Line2D at 0x1a1bae99b0>,\n",
       "  <matplotlib.lines.Line2D at 0x1a1bafa470>,\n",
       "  <matplotlib.lines.Line2D at 0x1a1bafa8d0>,\n",
       "  <matplotlib.lines.Line2D at 0x1a1bb0b390>,\n",
       "  <matplotlib.lines.Line2D at 0x1a1bb0b7f0>,\n",
       "  <matplotlib.lines.Line2D at 0x1a1bb11f28>,\n",
       "  <matplotlib.lines.Line2D at 0x1a1bb1c710>,\n",
       "  <matplotlib.lines.Line2D at 0x1a1bb24e48>,\n",
       "  <matplotlib.lines.Line2D at 0x1a1bb2c630>,\n",
       "  <matplotlib.lines.Line2D at 0x1a1bb34d68>,\n",
       "  <matplotlib.lines.Line2D at 0x1a1bb34c18>],\n",
       " 'boxes': [<matplotlib.lines.Line2D at 0x1a1b9d4eb8>,\n",
       "  <matplotlib.lines.Line2D at 0x1a1ba78ef0>,\n",
       "  <matplotlib.lines.Line2D at 0x1a1ba75e10>,\n",
       "  <matplotlib.lines.Line2D at 0x1a1ba85d30>,\n",
       "  <matplotlib.lines.Line2D at 0x1a1ba9ac50>,\n",
       "  <matplotlib.lines.Line2D at 0x1a1ba92b70>,\n",
       "  <matplotlib.lines.Line2D at 0x1a1baaea90>,\n",
       "  <matplotlib.lines.Line2D at 0x1a1bac09b0>,\n",
       "  <matplotlib.lines.Line2D at 0x1a1bad08d0>,\n",
       "  <matplotlib.lines.Line2D at 0x1a1bae07f0>,\n",
       "  <matplotlib.lines.Line2D at 0x1a1baf1710>,\n",
       "  <matplotlib.lines.Line2D at 0x1a1bb02630>,\n",
       "  <matplotlib.lines.Line2D at 0x1a1bb11550>,\n",
       "  <matplotlib.lines.Line2D at 0x1a1bb24470>,\n",
       "  <matplotlib.lines.Line2D at 0x1a1bb2cfd0>],\n",
       " 'medians': [<matplotlib.lines.Line2D at 0x1a1ba78630>,\n",
       "  <matplotlib.lines.Line2D at 0x1a1ba75550>,\n",
       "  <matplotlib.lines.Line2D at 0x1a1ba85470>,\n",
       "  <matplotlib.lines.Line2D at 0x1a1ba9a390>,\n",
       "  <matplotlib.lines.Line2D at 0x1a1ba96f28>,\n",
       "  <matplotlib.lines.Line2D at 0x1a1baa8e48>,\n",
       "  <matplotlib.lines.Line2D at 0x1a1bab8d68>,\n",
       "  <matplotlib.lines.Line2D at 0x1a1bac8fd0>,\n",
       "  <matplotlib.lines.Line2D at 0x1a1badaef0>,\n",
       "  <matplotlib.lines.Line2D at 0x1a1bae9e10>,\n",
       "  <matplotlib.lines.Line2D at 0x1a1bafad30>,\n",
       "  <matplotlib.lines.Line2D at 0x1a1bb0bc50>,\n",
       "  <matplotlib.lines.Line2D at 0x1a1bb1cb70>,\n",
       "  <matplotlib.lines.Line2D at 0x1a1bb2ca90>,\n",
       "  <matplotlib.lines.Line2D at 0x1a1bb3e908>],\n",
       " 'fliers': [<matplotlib.lines.Line2D at 0x1a1ba78a90>,\n",
       "  <matplotlib.lines.Line2D at 0x1a1ba759b0>,\n",
       "  <matplotlib.lines.Line2D at 0x1a1ba858d0>,\n",
       "  <matplotlib.lines.Line2D at 0x1a1ba9a7f0>,\n",
       "  <matplotlib.lines.Line2D at 0x1a1ba92710>,\n",
       "  <matplotlib.lines.Line2D at 0x1a1baae630>,\n",
       "  <matplotlib.lines.Line2D at 0x1a1bac0550>,\n",
       "  <matplotlib.lines.Line2D at 0x1a1bad0470>,\n",
       "  <matplotlib.lines.Line2D at 0x1a1bae0390>,\n",
       "  <matplotlib.lines.Line2D at 0x1a1bae9f28>,\n",
       "  <matplotlib.lines.Line2D at 0x1a1bafae48>,\n",
       "  <matplotlib.lines.Line2D at 0x1a1bb0bd68>,\n",
       "  <matplotlib.lines.Line2D at 0x1a1bb1cfd0>,\n",
       "  <matplotlib.lines.Line2D at 0x1a1bb2cef0>,\n",
       "  <matplotlib.lines.Line2D at 0x1a1bb3ed30>],\n",
       " 'means': []}"
      ]
     },
     "execution_count": 31,
     "metadata": {},
     "output_type": "execute_result"
    },
    {
     "data": {
      "image/png": "[encoded data removed]",
      "text/plain": [
       "<Figure size 432x288 with 1 Axes>"
      ]
     },
     "metadata": {},
     "output_type": "display_data"
    }
   ],
   "source": [
    "plt.boxplot(transponiert)"
   ]
  },
  {
   "cell_type": "markdown",
   "metadata": {},
   "source": [
    "Die erste Spalte stört, ich lasse sie weg"
   ]
  },
  {
   "cell_type": "code",
   "execution_count": 32,
   "metadata": {},
   "outputs": [
    {
     "data": {
      "text/plain": [
       "{'whiskers': [<matplotlib.lines.Line2D at 0x1a1bbbee10>,\n",
       "  <matplotlib.lines.Line2D at 0x1a1bbc16a0>,\n",
       "  <matplotlib.lines.Line2D at 0x1a1bc29dd8>,\n",
       "  <matplotlib.lines.Line2D at 0x1a1bc305c0>,\n",
       "  <matplotlib.lines.Line2D at 0x1a1bc37cf8>,\n",
       "  <matplotlib.lines.Line2D at 0x1a1bc404e0>,\n",
       "  <matplotlib.lines.Line2D at 0x1a1bc45f60>,\n",
       "  <matplotlib.lines.Line2D at 0x1a1bc4e400>,\n",
       "  <matplotlib.lines.Line2D at 0x1a1bc56e80>,\n",
       "  <matplotlib.lines.Line2D at 0x1a1bc56f98>,\n",
       "  <matplotlib.lines.Line2D at 0x1a1bc65da0>,\n",
       "  <matplotlib.lines.Line2D at 0x1a1bc65eb8>,\n",
       "  <matplotlib.lines.Line2D at 0x1a1bc74cc0>,\n",
       "  <matplotlib.lines.Line2D at 0x1a1bc74dd8>,\n",
       "  <matplotlib.lines.Line2D at 0x1a1bc82be0>,\n",
       "  <matplotlib.lines.Line2D at 0x1a1bc82cf8>,\n",
       "  <matplotlib.lines.Line2D at 0x1a1bc92b00>,\n",
       "  <matplotlib.lines.Line2D at 0x1a1bc92f60>,\n",
       "  <matplotlib.lines.Line2D at 0x1a1bca1a20>,\n",
       "  <matplotlib.lines.Line2D at 0x1a1bca1e80>,\n",
       "  <matplotlib.lines.Line2D at 0x1a1bcb1940>,\n",
       "  <matplotlib.lines.Line2D at 0x1a1bcb1da0>,\n",
       "  <matplotlib.lines.Line2D at 0x1a1bcc1860>,\n",
       "  <matplotlib.lines.Line2D at 0x1a1bcc1cc0>,\n",
       "  <matplotlib.lines.Line2D at 0x1a1bccf780>,\n",
       "  <matplotlib.lines.Line2D at 0x1a1bccfbe0>,\n",
       "  <matplotlib.lines.Line2D at 0x1a1bcdf6a0>,\n",
       "  <matplotlib.lines.Line2D at 0x1a1bcdfb00>],\n",
       " 'caps': [<matplotlib.lines.Line2D at 0x1a1bbc1b00>,\n",
       "  <matplotlib.lines.Line2D at 0x1a1bbc1f60>,\n",
       "  <matplotlib.lines.Line2D at 0x1a1bc30a20>,\n",
       "  <matplotlib.lines.Line2D at 0x1a1bc30e80>,\n",
       "  <matplotlib.lines.Line2D at 0x1a1bc40940>,\n",
       "  <matplotlib.lines.Line2D at 0x1a1bc40da0>,\n",
       "  <matplotlib.lines.Line2D at 0x1a1bc4e860>,\n",
       "  <matplotlib.lines.Line2D at 0x1a1bc4ecc0>,\n",
       "  <matplotlib.lines.Line2D at 0x1a1bc5d780>,\n",
       "  <matplotlib.lines.Line2D at 0x1a1bc5dbe0>,\n",
       "  <matplotlib.lines.Line2D at 0x1a1bc6c6a0>,\n",
       "  <matplotlib.lines.Line2D at 0x1a1bc6cb00>,\n",
       "  <matplotlib.lines.Line2D at 0x1a1bc7b5c0>,\n",
       "  <matplotlib.lines.Line2D at 0x1a1bc7ba20>,\n",
       "  <matplotlib.lines.Line2D at 0x1a1bc8c4e0>,\n",
       "  <matplotlib.lines.Line2D at 0x1a1bc8c940>,\n",
       "  <matplotlib.lines.Line2D at 0x1a1bc9a400>,\n",
       "  <matplotlib.lines.Line2D at 0x1a1bc9a860>,\n",
       "  <matplotlib.lines.Line2D at 0x1a1bca1f98>,\n",
       "  <matplotlib.lines.Line2D at 0x1a1bcaa780>,\n",
       "  <matplotlib.lines.Line2D at 0x1a1bcb1eb8>,\n",
       "  <matplotlib.lines.Line2D at 0x1a1bcb86a0>,\n",
       "  <matplotlib.lines.Line2D at 0x1a1bcc1dd8>,\n",
       "  <matplotlib.lines.Line2D at 0x1a1bcc85c0>,\n",
       "  <matplotlib.lines.Line2D at 0x1a1bccfcf8>,\n",
       "  <matplotlib.lines.Line2D at 0x1a1bcd84e0>,\n",
       "  <matplotlib.lines.Line2D at 0x1a1bcdff60>,\n",
       "  <matplotlib.lines.Line2D at 0x1a1bce7400>],\n",
       " 'boxes': [<matplotlib.lines.Line2D at 0x1a1bbbec88>,\n",
       "  <matplotlib.lines.Line2D at 0x1a1bc29cc0>,\n",
       "  <matplotlib.lines.Line2D at 0x1a1bc37be0>,\n",
       "  <matplotlib.lines.Line2D at 0x1a1bc45b00>,\n",
       "  <matplotlib.lines.Line2D at 0x1a1bc56a20>,\n",
       "  <matplotlib.lines.Line2D at 0x1a1bc65940>,\n",
       "  <matplotlib.lines.Line2D at 0x1a1bc74860>,\n",
       "  <matplotlib.lines.Line2D at 0x1a1bc82780>,\n",
       "  <matplotlib.lines.Line2D at 0x1a1bc926a0>,\n",
       "  <matplotlib.lines.Line2D at 0x1a1bca15c0>,\n",
       "  <matplotlib.lines.Line2D at 0x1a1bcb14e0>,\n",
       "  <matplotlib.lines.Line2D at 0x1a1bcc1400>,\n",
       "  <matplotlib.lines.Line2D at 0x1a1bcc8f60>,\n",
       "  <matplotlib.lines.Line2D at 0x1a1bcd8e80>],\n",
       " 'medians': [<matplotlib.lines.Line2D at 0x1a1bc29400>,\n",
       "  <matplotlib.lines.Line2D at 0x1a1bc30f98>,\n",
       "  <matplotlib.lines.Line2D at 0x1a1bc40eb8>,\n",
       "  <matplotlib.lines.Line2D at 0x1a1bc4edd8>,\n",
       "  <matplotlib.lines.Line2D at 0x1a1bc5dcf8>,\n",
       "  <matplotlib.lines.Line2D at 0x1a1bc6cf60>,\n",
       "  <matplotlib.lines.Line2D at 0x1a1bc7be80>,\n",
       "  <matplotlib.lines.Line2D at 0x1a1bc8cda0>,\n",
       "  <matplotlib.lines.Line2D at 0x1a1bc9acc0>,\n",
       "  <matplotlib.lines.Line2D at 0x1a1bcaabe0>,\n",
       "  <matplotlib.lines.Line2D at 0x1a1bcb8b00>,\n",
       "  <matplotlib.lines.Line2D at 0x1a1bcc8a20>,\n",
       "  <matplotlib.lines.Line2D at 0x1a1bcd8940>,\n",
       "  <matplotlib.lines.Line2D at 0x1a1bce7860>],\n",
       " 'fliers': [<matplotlib.lines.Line2D at 0x1a1bc29860>,\n",
       "  <matplotlib.lines.Line2D at 0x1a1bc37780>,\n",
       "  <matplotlib.lines.Line2D at 0x1a1bc456a0>,\n",
       "  <matplotlib.lines.Line2D at 0x1a1bc565c0>,\n",
       "  <matplotlib.lines.Line2D at 0x1a1bc654e0>,\n",
       "  <matplotlib.lines.Line2D at 0x1a1bc74400>,\n",
       "  <matplotlib.lines.Line2D at 0x1a1bc7bf98>,\n",
       "  <matplotlib.lines.Line2D at 0x1a1bc8ceb8>,\n",
       "  <matplotlib.lines.Line2D at 0x1a1bc9add8>,\n",
       "  <matplotlib.lines.Line2D at 0x1a1bcaacf8>,\n",
       "  <matplotlib.lines.Line2D at 0x1a1bcb8f60>,\n",
       "  <matplotlib.lines.Line2D at 0x1a1bcc8e80>,\n",
       "  <matplotlib.lines.Line2D at 0x1a1bcd8da0>,\n",
       "  <matplotlib.lines.Line2D at 0x1a1bce7cc0>],\n",
       " 'means': []}"
      ]
     },
     "execution_count": 32,
     "metadata": {},
     "output_type": "execute_result"
    },
    {
     "data": {
      "image/png": "[encoded data removed]",
      "text/plain": [
       "<Figure size 432x288 with 1 Axes>"
      ]
     },
     "metadata": {},
     "output_type": "display_data"
    }
   ],
   "source": [
    "plt.boxplot(pre)"
   ]
  },
  {
   "cell_type": "code",
   "execution_count": null,
   "metadata": {},
   "outputs": [],
   "source": []
  }
 ],
 "metadata": {
  "kernelspec": {
   "display_name": "Python 3",
   "language": "python",
   "name": "python3"
  },
  "language_info": {
   "codemirror_mode": {
    "name": "ipython",
    "version": 3
   },
   "file_extension": ".py",
   "mimetype": "text/x-python",
   "name": "python",
   "nbconvert_exporter": "python",
   "pygments_lexer": "ipython3",
   "version": "3.7.0"
  }
 },
 "nbformat": 4,
 "nbformat_minor": 2
}
