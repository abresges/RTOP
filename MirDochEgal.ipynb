{
 "cells": [
  {
   "cell_type": "markdown",
   "metadata": {},
   "source": [
    "Hier werden zunächst die Pakete installiert, die man zum Auswerten braucht, und den Paketen Kurznamen wie \"Pd\" zur Verwendung im Programm gegeben (oder fachsprachlich, es werden \"Objekte instantiiert\" auf die man in der Punktschreibweise zugreifen kann. Mit der \"Tab\" taste kann man Auto-vervollständigen und so sehen was das Paket alles kann.\n",
    "\n",
    "Das ganze wird mit Copy-and-Paste fähigen Codebeispielen erklärt hier:\n",
    "<a href=\"https://github.com/jakevdp/PythonDataScienceHandbook/blob/8a34a4f653bdbdc01415a94dc20d4e9b97438965/notebooks/Index.ipynb\">PythonDataScience Handbook</a>\n"
   ]
  },
  {
   "cell_type": "code",
   "execution_count": 6,
   "metadata": {
    "scrolled": true
   },
   "outputs": [],
   "source": [
    "%matplotlib inline\n",
    "import numpy as np\n",
    "import pandas as pd\n",
    "import matplotlib.pyplot as plt\n",
    "import seaborn as sns; sns.set()"
   ]
  },
  {
   "cell_type": "markdown",
   "metadata": {},
   "source": [
    "numpy erlaubt das Spielen mit grooooßen Datensätzen. Pandas (Python Analytical Data Science, oder so) enthält Tools für die Auswertung und kann fast alles was SPSS auch kann. matplotlib ist so etwas wie gnuplot oder Matlab, es erlaubt Daten in Graphen zu visualisieren (wird hier zum plot-Obkekt plt, plt. + TAB zeigt die Plotstyles). Seaborn ist eine weitere Sammlung die das Plotten noch schöner und 3-Dimensional macht.\n",
    "\n",
    "Pandas, hier kurz als pd. - Objekt instantiiert, kann Excel-Tabellen lesen. So wie unten. Bitte den Dateinamen ersetzen durch die eigene Datei. Mit sheet_name='' gibt man das Tabellenblatt an, das man lesen will. Anschliessend kann man sich durch print() anzeigen lassen was man gelesen hat."
   ]
  },
  {
   "cell_type": "code",
   "execution_count": 7,
   "metadata": {
    "scrolled": false
   },
   "outputs": [
    {
     "name": "stdout",
     "output_type": "stream",
     "text": [
      "    Format  Präsenz  Präsenz.1  Präsenz.2  Präsenz/Zoom  Päsenz  Präsenz.3  \\\n",
      "0        1        3          0          3             1       2          4   \n",
      "1        2        2          1          4             4       3          4   \n",
      "2        3        1          0          4             2       3          3   \n",
      "3        4        1          0          2             0       3          2   \n",
      "4        5        0          1          1             2       2          2   \n",
      "5        6        4          4          4             4       3          3   \n",
      "6        7        2          0          2             2       3          4   \n",
      "7        8        4          2          2             4       2          4   \n",
      "8        9        4          1          3             2       3          4   \n",
      "9       10        3          3          1             4       1          4   \n",
      "10      11        0          0          4             1       2          4   \n",
      "11      12        1          0          4             1       2          4   \n",
      "12      13        2          1          4             2       3          3   \n",
      "13      14        0          0          3             1       3          2   \n",
      "14      15        1          1          4             2       4          4   \n",
      "15      16        0          1          4             2       2          3   \n",
      "16      17        0          0          1             1       3          2   \n",
      "17      18        2          1          4             2       3          4   \n",
      "18      19        1          0          1             3       3          3   \n",
      "19      20        4          1          4             4       4          4   \n",
      "20      21        2          0          4             4       3          3   \n",
      "21      22        1          0          2             1       1          3   \n",
      "22      23        4          0          4             4       2          4   \n",
      "23      24        2          2          4             3       2          3   \n",
      "24      25        2          0          3             1       3          4   \n",
      "\n",
      "    Präsenz.4  Präsenz.5  Präsenz/Zoom.1  Präsenz.6  Präsenz.7  Päsenz/Zoom  \\\n",
      "0           3          1               2          0          0            4   \n",
      "1           4          0               4          3          0            2   \n",
      "2           4          0               2          1          0            3   \n",
      "3           3          0               3          1          0            2   \n",
      "4           3          1               4          1          1            2   \n",
      "5           4          4               4          4          4            4   \n",
      "6           4          2               3          2          2            2   \n",
      "7           4          3               4          3          2            4   \n",
      "8           4          2               2          2          2            4   \n",
      "9           2          2               4          1          4            4   \n",
      "10          3          1               3          2          0            1   \n",
      "11          4          0               2          3          0            3   \n",
      "12          3          0               4          2          0            1   \n",
      "13          3          0               2          0          0            0   \n",
      "14          3          1               4          2          0            2   \n",
      "15          2          0               2          2          0            2   \n",
      "16          4          1               2          1          1            1   \n",
      "17          4          1               2          2          0            0   \n",
      "18          4          0               3          1          0            1   \n",
      "19          4          1               3          2          0            3   \n",
      "20          4          1               4          2          0            2   \n",
      "21          3          0               2          1          0            2   \n",
      "22          4          1               4          1          0            4   \n",
      "23          3          0               3          2          0            2   \n",
      "24          4          1               3          3          0            2   \n",
      "\n",
      "    Präsenz.8  Präsenz.9  \n",
      "0           3          3  \n",
      "1           4          3  \n",
      "2           3          3  \n",
      "3           4          3  \n",
      "4           2          4  \n",
      "5           4          4  \n",
      "6           3          3  \n",
      "7           4          3  \n",
      "8           3          2  \n",
      "9           3          3  \n",
      "10          4          3  \n",
      "11          3          3  \n",
      "12          4          4  \n",
      "13          4          1  \n",
      "14          4          4  \n",
      "15          3          4  \n",
      "16          4          2  \n",
      "17          4          2  \n",
      "18          4          3  \n",
      "19          2          2  \n",
      "20          3          3  \n",
      "21          4          2  \n",
      "22          1          2  \n",
      "23          4          2  \n",
      "24          3          3  \n"
     ]
    }
   ],
   "source": [
    "dtpre=pd.read_excel('RTOP.xlsx', sheet_name='Rohdaten')\n",
    "print(dtpre)"
   ]
  },
  {
   "cell_type": "markdown",
   "metadata": {},
   "source": [
    "Der ganze Datensatz aus dem Excel-Blatt steht jetzt in der Variable \"dtpre\" zu verfügung und kann addiert, subtrahiert... gar heftig manipuliert werden. Hier noch mal das ganze mit dem Zweiten Blatt aus der gleichen Tabelle"
   ]
  },
  {
   "cell_type": "markdown",
   "metadata": {},
   "source": [
    "Mit der Bracket-Schreibweise kann man sich einzelne Zeilen und Spalten herausgreifen und hier zum Beispiel in eine neue Variable \"pre\" speichern. Vor dem Komma stehen die Zeilen, nach dem Komma die Spalten. 0:4 heisst von Zeile 1 bis zeile 4."
   ]
  },
  {
   "cell_type": "code",
   "execution_count": 13,
   "metadata": {
    "scrolled": true
   },
   "outputs": [
    {
     "name": "stdout",
     "output_type": "stream",
     "text": [
      "   Präsenz  Präsenz.1  Präsenz.2  Präsenz/Zoom  Päsenz  Präsenz.3  Präsenz.4  \\\n",
      "1        2          1          4             4       3          4          4   \n",
      "2        1          0          4             2       3          3          4   \n",
      "3        1          0          2             0       3          2          3   \n",
      "\n",
      "   Präsenz.5  Präsenz/Zoom.1  \n",
      "1          0               4  \n",
      "2          0               2  \n",
      "3          0               3  \n"
     ]
    }
   ],
   "source": [
    "pre=dtpre.iloc[1:4, 1:10]\n",
    "print(pre)"
   ]
  },
  {
   "cell_type": "markdown",
   "metadata": {},
   "source": [
    "Und jetzt kommt endlich das plt-Objekt, das Plotten kann. Viel Spaß beim Ausprobieren!"
   ]
  },
  {
   "cell_type": "code",
   "execution_count": 14,
   "metadata": {},
   "outputs": [
    {
     "data": {
      "text/plain": [
       "([array([1., 0., 1., 0., 0., 1., 0., 1., 0., 5.]),\n",
       "  array([2., 0., 1., 0., 0., 2., 0., 2., 0., 2.]),\n",
       "  array([3., 0., 1., 0., 0., 2., 0., 3., 0., 0.])],\n",
       " array([0. , 0.4, 0.8, 1.2, 1.6, 2. , 2.4, 2.8, 3.2, 3.6, 4. ]),\n",
       " <a list of 3 Lists of Patches objects>)"
      ]
     },
     "execution_count": 14,
     "metadata": {},
     "output_type": "execute_result"
    },
    {
     "data": {
      "image/png": "[encoded data removed]",
      "text/plain": [
       "<Figure size 432x288 with 1 Axes>"
      ]
     },
     "metadata": {},
     "output_type": "display_data"
    }
   ],
   "source": [
    "plt.hist(pre)"
   ]
  },
  {
   "cell_type": "markdown",
   "metadata": {},
   "source": [
    "Und alles wird gut!"
   ]
  },
  {
   "cell_type": "code",
   "execution_count": null,
   "metadata": {},
   "outputs": [],
   "source": []
  }
 ],
 "metadata": {
  "kernelspec": {
   "display_name": "Python 3",
   "language": "python",
   "name": "python3"
  },
  "language_info": {
   "codemirror_mode": {
    "name": "ipython",
    "version": 3
   },
   "file_extension": ".py",
   "mimetype": "text/x-python",
   "name": "python",
   "nbconvert_exporter": "python",
   "pygments_lexer": "ipython3",
   "version": "3.7.0"
  }
 },
 "nbformat": 4,
 "nbformat_minor": 2
}
